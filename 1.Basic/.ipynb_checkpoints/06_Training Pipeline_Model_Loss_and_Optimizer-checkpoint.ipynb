{
 "cells": [
  {
   "cell_type": "markdown",
   "id": "upset-abuse",
   "metadata": {},
   "source": [
    "# 06 - Training Pipeline: Model, Loss, and Optimizer\n",
    "1. Prediction: <font color=A52A2A size=3>PyTorch Model</font>\n",
    "2. Gradient Computation:  <font color=#A52A2A size=3>Autograd</font>\n",
    "3. Loss Computation: <font color=#A52A2A size=3>PyTorch loss</font>\n",
    "4. Parameters Updates: <font color=#A52A2A size=3>PyTorch optimizer</font>"
   ]
  },
  {
   "cell_type": "markdown",
   "id": "apparent-roads",
   "metadata": {},
   "source": [
    "# Neural Network Pipeline\n",
    "\n",
    "1. Design model (input, output size, forward pass)\n",
    "2. Construct loss and optimization\n",
    "3. Training the loop\n",
    "    - forward pass: compute prediction and loss\n",
    "    - backward pass: compute gradient\n",
    "    - update weights"
   ]
  },
  {
   "cell_type": "markdown",
   "id": "worst-sailing",
   "metadata": {},
   "source": [
    "# 1. 利用PyTorch自动实现这个流程"
   ]
  },
  {
   "cell_type": "code",
   "execution_count": 2,
   "id": "palestinian-notice",
   "metadata": {},
   "outputs": [],
   "source": [
    "import torch \n",
    "import torch.nn as nn"
   ]
  },
  {
   "cell_type": "markdown",
   "id": "trying-disco",
   "metadata": {},
   "source": [
    "# 2. `torch.nn.MSELoss(y, y_pred)`"
   ]
  },
  {
   "cell_type": "markdown",
   "id": "coastal-capture",
   "metadata": {},
   "source": [
    "# 3. `torch.optim.SGD([w], lr=learning_rate)`\n",
    "- `optimizer.step()`: Updates weights\n",
    "- `optimizer.zero_grad()`: w.grad.zero_()"
   ]
  },
  {
   "cell_type": "markdown",
   "id": "fabulous-valley",
   "metadata": {},
   "source": [
    "# 4. `torch.nn.Linear()`\n",
    "1. Input size:\n",
    "    - row: The number of examples\n",
    "    - columns: The number of features"
   ]
  },
  {
   "cell_type": "markdown",
   "id": "settled-baltimore",
   "metadata": {},
   "source": [
    "## 注意：定义`torch.tensor`时，从内到外是：行 --> 列"
   ]
  },
  {
   "cell_type": "code",
   "execution_count": 15,
   "id": "abstract-tract",
   "metadata": {},
   "outputs": [
    {
     "name": "stdout",
     "output_type": "stream",
     "text": [
      "tensor([1, 2, 3])\n"
     ]
    }
   ],
   "source": [
    "m = torch.tensor([1, 2, 3])\n",
    "print(m)"
   ]
  },
  {
   "cell_type": "code",
   "execution_count": 16,
   "id": "affecting-original",
   "metadata": {},
   "outputs": [
    {
     "name": "stdout",
     "output_type": "stream",
     "text": [
      "tensor([[1, 2, 4],\n",
      "        [2, 3, 4],\n",
      "        [3, 4, 5]])\n"
     ]
    }
   ],
   "source": [
    "m = torch.tensor([[1, 2, 4], [2, 3, 4], [3, 4, 5]])\n",
    "print(m)"
   ]
  },
  {
   "cell_type": "code",
   "execution_count": null,
   "id": "premier-relation",
   "metadata": {},
   "outputs": [],
   "source": []
  }
 ],
 "metadata": {
  "kernelspec": {
   "display_name": "python3.9",
   "language": "python",
   "name": "python3.9"
  },
  "language_info": {
   "codemirror_mode": {
    "name": "ipython",
    "version": 3
   },
   "file_extension": ".py",
   "mimetype": "text/x-python",
   "name": "python",
   "nbconvert_exporter": "python",
   "pygments_lexer": "ipython3",
   "version": "3.9.5"
  }
 },
 "nbformat": 4,
 "nbformat_minor": 5
}
