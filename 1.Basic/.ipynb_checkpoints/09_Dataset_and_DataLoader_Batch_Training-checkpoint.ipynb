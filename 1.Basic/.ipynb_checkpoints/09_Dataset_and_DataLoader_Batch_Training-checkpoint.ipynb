{
 "cells": [
  {
   "cell_type": "markdown",
   "id": "after-variance",
   "metadata": {},
   "source": [
    "# 09 - Dataset and DataLoader - Batch Training\n",
    "\n",
    "使用数据集所有samples做gradient descent需要花费非常多的时间。因此我们应该把数据集分为几个small batches\n",
    "\n",
    "```python\n",
    "# Training Loop\n",
    "for epoch in range(n_iters):\n",
    "    # loop over all batches\n",
    "    for i in range(total_batches):\n",
    "        x_batch, y_batch = ...\n",
    "```"
   ]
  },
  {
   "cell_type": "markdown",
   "id": "healthy-holiday",
   "metadata": {},
   "source": [
    "## Terms\n",
    "1. `epoch`: 1 forward and backward pass of <font size=3 color=\"red\">ALL</font> training set\n",
    "2. `batch_size` = number of training samples in one forward & backward pass\n",
    "3. `number of iterations`: numbers of pass, each pass use [batch_size] number of pass\n",
    " \n",
    "e.g. 100 samples, batch_size=20 --> 100/20 = 5 iteration for a epoch"
   ]
  },
  {
   "cell_type": "code",
   "execution_count": 77,
   "id": "portuguese-petroleum",
   "metadata": {},
   "outputs": [],
   "source": [
    "import torch\n",
    "import torchvision\n",
    "from torch.utils.data import Dataset, DataLoader\n",
    "import numpy as np\n",
    "import math"
   ]
  },
  {
   "cell_type": "markdown",
   "id": "bearing-testament",
   "metadata": {},
   "source": [
    "# 1. Implement Custom Dataset"
   ]
  },
  {
   "cell_type": "code",
   "execution_count": 78,
   "id": "ecological-division",
   "metadata": {},
   "outputs": [],
   "source": [
    "class WineDataset(Dataset):\n",
    "    def __init__(self):\n",
    "        # data loading\n",
    "        xy = np.loadtxt('wine.txt', delimiter=\",\", dtype=np.float32, skiprows=1)\n",
    "        self.x = torch.from_numpy(xy[:, 1:])\n",
    "        self.y = torch.from_numpy(xy[:, [0]]) # shape = (n_samples,1)\n",
    "        self.n_samples = xy.shape[0]\n",
    "        \n",
    "    def __getitem__(self, index):\n",
    "        # dataset[0]\n",
    "        return self.x[index], self.y[index]\n",
    "    \n",
    "    def __len__(self):\n",
    "        # len(dataset)\n",
    "        return self.n_samples"
   ]
  },
  {
   "cell_type": "code",
   "execution_count": 81,
   "id": "driven-equipment",
   "metadata": {},
   "outputs": [],
   "source": [
    "dataset = WineDataset()\n",
    "dataset[0]\n",
    "\n",
    "dataloader = DataLoader(dataset=dataset, batch_size=4, shuffle=True, num_workers=0)"
   ]
  },
  {
   "cell_type": "markdown",
   "id": "banned-volleyball",
   "metadata": {},
   "source": [
    "### `torch.utils.data.Dataloader(dataset, batch_size, shuffle, num_workers)`\n",
    "### 1. Parameters\n",
    "1. `dataset`(DataSet): 传入的数据集\n",
    "2. `batch_size`(int, optional): 每个batch有多少样本\n",
    "3. `shuffle`(bool, optional): 每个epoch开始，对数据进行重新排序\n",
    "4. `num_workers`(int, optional): 这个参数决定了有几个进程来处理data loading。0意味着所有的数据都会被load进主进程。（默认为0）\n",
    "### 2.Return\n",
    "return a `iterable`"
   ]
  },
  {
   "cell_type": "markdown",
   "id": "golden-frequency",
   "metadata": {},
   "source": [
    "# 附加: `torch.utils.data.DataLoader()`: iterable-->iterator\n",
    "\n",
    "迭代器：遵守迭代协议"
   ]
  },
  {
   "cell_type": "code",
   "execution_count": 85,
   "id": "bored-melissa",
   "metadata": {},
   "outputs": [
    {
     "name": "stdout",
     "output_type": "stream",
     "text": [
      "tensor([[1.3830e+01, 1.5700e+00, 2.6200e+00, 2.0000e+01, 1.1500e+02, 2.9500e+00,\n",
      "         3.4000e+00, 4.0000e-01, 1.7200e+00, 6.6000e+00, 1.1300e+00, 2.5700e+00,\n",
      "         1.1300e+03],\n",
      "        [1.4830e+01, 1.6400e+00, 2.1700e+00, 1.4000e+01, 9.7000e+01, 2.8000e+00,\n",
      "         2.9800e+00, 2.9000e-01, 1.9800e+00, 5.2000e+00, 1.0800e+00, 2.8500e+00,\n",
      "         1.0450e+03],\n",
      "        [1.2990e+01, 1.6700e+00, 2.6000e+00, 3.0000e+01, 1.3900e+02, 3.3000e+00,\n",
      "         2.8900e+00, 2.1000e-01, 1.9600e+00, 3.3500e+00, 1.3100e+00, 3.5000e+00,\n",
      "         9.8500e+02],\n",
      "        [1.3290e+01, 1.9700e+00, 2.6800e+00, 1.6800e+01, 1.0200e+02, 3.0000e+00,\n",
      "         3.2300e+00, 3.1000e-01, 1.6600e+00, 6.0000e+00, 1.0700e+00, 2.8400e+00,\n",
      "         1.2700e+03]]) tensor([[1.],\n",
      "        [1.],\n",
      "        [2.],\n",
      "        [1.]])\n"
     ]
    }
   ],
   "source": [
    "dataiter = iter(dataloader)\n",
    "data = dataiter.next()\n",
    "features, label = data\n",
    "print(features, label)"
   ]
  },
  {
   "cell_type": "markdown",
   "id": "worldwide-office",
   "metadata": {},
   "source": [
    "# 2. Neueal Network Training Loop"
   ]
  },
  {
   "cell_type": "code",
   "execution_count": 89,
   "id": "standard-columbia",
   "metadata": {},
   "outputs": [
    {
     "name": "stdout",
     "output_type": "stream",
     "text": [
      "178 45\n"
     ]
    }
   ],
   "source": [
    "num_epochs = 2\n",
    "total_samples = len(dataset)\n",
    "n_iterations = math.ceil(total_samples/4)\n",
    "print(total_samples, n_iterations)"
   ]
  },
  {
   "cell_type": "code",
   "execution_count": null,
   "id": "alpine-invitation",
   "metadata": {},
   "outputs": [],
   "source": [
    "for epoch in range(num_epoch):\n",
    "    for i, (inputs, labels) in enumerate(dataloader):\n",
    "        # forward and backward pass, update, zero grad\n",
    "        if (i+1) % 5 == 0:\n",
    "            print(\"Epoch {0}/{1}, Step {1}/{2}\".format(epoch+1, num_epochs, i+1, n_iterations))\n",
    "            "
   ]
  }
 ],
 "metadata": {
  "kernelspec": {
   "display_name": "python3.9",
   "language": "python",
   "name": "python3.9"
  },
  "language_info": {
   "codemirror_mode": {
    "name": "ipython",
    "version": 3
   },
   "file_extension": ".py",
   "mimetype": "text/x-python",
   "name": "python",
   "nbconvert_exporter": "python",
   "pygments_lexer": "ipython3",
   "version": "3.9.5"
  }
 },
 "nbformat": 4,
 "nbformat_minor": 5
}
