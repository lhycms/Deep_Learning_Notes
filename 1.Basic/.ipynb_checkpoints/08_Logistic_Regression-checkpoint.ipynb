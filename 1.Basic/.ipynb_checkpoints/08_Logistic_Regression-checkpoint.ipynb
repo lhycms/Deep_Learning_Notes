{
 "cells": [
  {
   "cell_type": "markdown",
   "id": "confidential-walnut",
   "metadata": {},
   "source": [
    "# 08_Logistic_Regression\n",
    "\n",
    "1. Design model (input, output size, forward pass)\n",
    "2. Construct loss and optimization\n",
    "3. Training the loop\n",
    "    - forward pass: compute prediction and loss\n",
    "    - backward pass: compute gradient\n",
    "    - update weights"
   ]
  },
  {
   "cell_type": "code",
   "execution_count": null,
   "id": "classified-things",
   "metadata": {},
   "outputs": [],
   "source": []
  }
 ],
 "metadata": {
  "kernelspec": {
   "display_name": "python3.9",
   "language": "python",
   "name": "python3.9"
  },
  "language_info": {
   "codemirror_mode": {
    "name": "ipython",
    "version": 3
   },
   "file_extension": ".py",
   "mimetype": "text/x-python",
   "name": "python",
   "nbconvert_exporter": "python",
   "pygments_lexer": "ipython3",
   "version": "3.9.5"
  }
 },
 "nbformat": 4,
 "nbformat_minor": 5
}
