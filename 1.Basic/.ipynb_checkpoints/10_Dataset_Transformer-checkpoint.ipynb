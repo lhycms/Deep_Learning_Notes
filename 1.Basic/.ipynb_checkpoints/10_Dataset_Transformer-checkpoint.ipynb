{
 "cells": [
  {
   "cell_type": "markdown",
   "id": "growing-dictionary",
   "metadata": {},
   "source": [
    "# 10 - Dataset Transforms"
   ]
  },
  {
   "cell_type": "markdown",
   "id": "sudden-investigation",
   "metadata": {},
   "source": [
    "# 1. Custom Dataset"
   ]
  },
  {
   "cell_type": "code",
   "execution_count": 118,
   "id": "planned-concrete",
   "metadata": {},
   "outputs": [],
   "source": [
    "import torch\n",
    "from torch.utils.data import Dataset, DataLoader\n",
    "import torchvision\n",
    "import numpy as np\n",
    "import math"
   ]
  },
  {
   "cell_type": "code",
   "execution_count": 119,
   "id": "owned-independence",
   "metadata": {},
   "outputs": [],
   "source": [
    "class WineDataset(Dataset):\n",
    "    def __init__(self, transform=None):\n",
    "        super(WineDataset, self).__init__()\n",
    "        xy = np.loadtxt(\"wine.txt\", delimiter=\",\", dtype=np.float32, skiprows=1)\n",
    "        # self.x = torch.tensor(xy[:, 1:], dtype=torch.float32)\n",
    "        # self.y = torch.tensor(xy[:, [0]], dtype=torch.float32)\n",
    "        self.x = xy[:, 1:]\n",
    "        self.y = xy[:, [0]]\n",
    "        \n",
    "        self.n_samples = self.x.shape[0]\n",
    "        \n",
    "        self.transform = transform\n",
    "    \n",
    "    def __getitem__(self, index):\n",
    "        sample = self.x[index], self.y[index]\n",
    "        if self.transform:\n",
    "            sample = self.transform(sample)\n",
    "        \n",
    "        return sample\n",
    "\n",
    "    def __len__(self):\n",
    "        return self.n_samples"
   ]
  },
  {
   "cell_type": "markdown",
   "id": "gorgeous-doctrine",
   "metadata": {},
   "source": [
    "# 2. Custom Transform"
   ]
  },
  {
   "cell_type": "markdown",
   "id": "american-handling",
   "metadata": {},
   "source": [
    "## 注意：有很多种Transform，自己去documentation查"
   ]
  },
  {
   "cell_type": "markdown",
   "id": "aging-auckland",
   "metadata": {},
   "source": [
    "## 2.1 ToTensor tansform"
   ]
  },
  {
   "cell_type": "code",
   "execution_count": 120,
   "id": "compact-honduras",
   "metadata": {},
   "outputs": [],
   "source": [
    "class ToTensor:\n",
    "    def __call__(self, sample):\n",
    "        inputs, targets = sample\n",
    "        return torch.from_numpy(inputs), torch.from_numpy(targets)"
   ]
  },
  {
   "cell_type": "code",
   "execution_count": 121,
   "id": "whole-perfume",
   "metadata": {},
   "outputs": [],
   "source": [
    "dataset = WineDataset(transform=ToTensor())"
   ]
  },
  {
   "cell_type": "code",
   "execution_count": 122,
   "id": "activated-listening",
   "metadata": {},
   "outputs": [
    {
     "name": "stdout",
     "output_type": "stream",
     "text": [
      "<class 'torch.Tensor'> <class 'torch.Tensor'>\n"
     ]
    }
   ],
   "source": [
    "first_data = dataset[0]\n",
    "features, label = first_data\n",
    "print(type(features), type(label))"
   ]
  },
  {
   "cell_type": "markdown",
   "id": "rental-classification",
   "metadata": {},
   "source": [
    "## 2.2 Multiple transform"
   ]
  },
  {
   "cell_type": "code",
   "execution_count": 123,
   "id": "anticipated-startup",
   "metadata": {},
   "outputs": [],
   "source": [
    "class MulTransform:\n",
    "    def __init__(self, factor):\n",
    "        self.factor = factor\n",
    "    \n",
    "    def __call__(self, sample):\n",
    "        inputs, target = sample\n",
    "        inputs *= self.factor\n",
    "        return inputs, target"
   ]
  },
  {
   "cell_type": "code",
   "execution_count": 124,
   "id": "floral-toolbox",
   "metadata": {},
   "outputs": [
    {
     "name": "stdout",
     "output_type": "stream",
     "text": [
      "tensor([1.4230e+01, 1.7100e+00, 2.4300e+00, 1.5600e+01, 1.2700e+02, 2.8000e+00,\n",
      "        3.0600e+00, 2.8000e-01, 2.2900e+00, 5.6400e+00, 1.0400e+00, 3.9200e+00,\n",
      "        1.0650e+03])\n",
      "<class 'numpy.ndarray'> <class 'numpy.ndarray'>\n"
     ]
    }
   ],
   "source": [
    "dataset = WineDataset(transform=MulTransform(3))\n",
    "first_data = dataset[0]\n",
    "print(features)\n",
    "features, label = first_data\n",
    "print(type(features), type(label))"
   ]
  },
  {
   "cell_type": "markdown",
   "id": "fuzzy-spirit",
   "metadata": {},
   "source": [
    "## 2.3 Composed transform\n",
    "\n",
    "- `torchvision.transforms.Composed([Transform_1, Transform_2])`"
   ]
  },
  {
   "cell_type": "code",
   "execution_count": 127,
   "id": "focused-nightlife",
   "metadata": {},
   "outputs": [
    {
     "name": "stdout",
     "output_type": "stream",
     "text": [
      "[1.423e+01 1.710e+00 2.430e+00 1.560e+01 1.270e+02 2.800e+00 3.060e+00\n",
      " 2.800e-01 2.290e+00 5.640e+00 1.040e+00 3.920e+00 1.065e+03]\n",
      "<class 'numpy.ndarray'> <class 'torch.Tensor'>\n"
     ]
    }
   ],
   "source": [
    "composed = torchvision.transforms.Compose([ToTensor(), MulTransform(2)])\n",
    "dataset = WineDataset(transform=None)\n",
    "first_data = dataset[0]\n",
    "features, label = first_data\n",
    "print(features)\n",
    "print(type(features), type(labels))"
   ]
  },
  {
   "cell_type": "code",
   "execution_count": 128,
   "id": "nutritional-convertible",
   "metadata": {},
   "outputs": [
    {
     "name": "stdout",
     "output_type": "stream",
     "text": [
      "tensor([2.8460e+01, 3.4200e+00, 4.8600e+00, 3.1200e+01, 2.5400e+02, 5.6000e+00,\n",
      "        6.1200e+00, 5.6000e-01, 4.5800e+00, 1.1280e+01, 2.0800e+00, 7.8400e+00,\n",
      "        2.1300e+03])\n",
      "<class 'torch.Tensor'> <class 'torch.Tensor'>\n"
     ]
    }
   ],
   "source": [
    "composed = torchvision.transforms.Compose([ToTensor(), MulTransform(2)])\n",
    "dataset = WineDataset(transform=composed)\n",
    "first_data = dataset[0]\n",
    "features, label = first_data\n",
    "print(features)\n",
    "print(type(features), type(labels))"
   ]
  },
  {
   "cell_type": "code",
   "execution_count": null,
   "id": "varying-lingerie",
   "metadata": {},
   "outputs": [],
   "source": []
  }
 ],
 "metadata": {
  "kernelspec": {
   "display_name": "python3.9",
   "language": "python",
   "name": "python3.9"
  },
  "language_info": {
   "codemirror_mode": {
    "name": "ipython",
    "version": 3
   },
   "file_extension": ".py",
   "mimetype": "text/x-python",
   "name": "python",
   "nbconvert_exporter": "python",
   "pygments_lexer": "ipython3",
   "version": "3.9.5"
  }
 },
 "nbformat": 4,
 "nbformat_minor": 5
}
