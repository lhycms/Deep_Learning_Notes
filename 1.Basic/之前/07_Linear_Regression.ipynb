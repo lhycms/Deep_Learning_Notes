{
 "cells": [
  {
   "cell_type": "markdown",
   "id": "stone-novelty",
   "metadata": {},
   "source": [
    "# 07_Linear_Regression\n",
    "\n",
    "1. Design model (input, output size, forward pass)\n",
    "2. Construct loss and optimization\n",
    "3. Training the loop\n",
    "    - forward pass: compute prediction and loss\n",
    "    - backward pass: compute gradient\n",
    "    - update weights"
   ]
  },
  {
   "cell_type": "code",
   "execution_count": 23,
   "id": "inner-admission",
   "metadata": {},
   "outputs": [],
   "source": [
    "import torch\n",
    "import torch.nn as nn\n",
    "import numpy as np\n",
    "from sklearn import datasets\n",
    "import matplotlib.pyplot as plt"
   ]
  },
  {
   "cell_type": "markdown",
   "id": "decent-account",
   "metadata": {},
   "source": [
    "# 1. Data Preparation"
   ]
  },
  {
   "cell_type": "code",
   "execution_count": 24,
   "id": "local-explanation",
   "metadata": {},
   "outputs": [
    {
     "data": {
      "text/plain": [
       "((100, 1), (100,))"
      ]
     },
     "execution_count": 24,
     "metadata": {},
     "output_type": "execute_result"
    }
   ],
   "source": [
    "X_numpy, y_numpy = datasets.make_regression(n_samples=100,\n",
    "                                            n_features=1,\n",
    "                                           noise=20,\n",
    "                                           random_state=1)\n",
    "X_numpy.shape, y_numpy.shape"
   ]
  },
  {
   "cell_type": "code",
   "execution_count": 25,
   "id": "deluxe-jesus",
   "metadata": {},
   "outputs": [],
   "source": [
    "X = torch.from_numpy(X_numpy.astype(np.float32))\n",
    "y = torch.from_numpy(y_numpy.astype(np.float32))\n",
    "y = y.view(y.size()[0], 1)"
   ]
  },
  {
   "cell_type": "markdown",
   "id": "trying-heath",
   "metadata": {},
   "source": [
    "# 2. Neural Network"
   ]
  },
  {
   "cell_type": "code",
   "execution_count": 26,
   "id": "fifteen-insertion",
   "metadata": {},
   "outputs": [],
   "source": [
    "n_samples, n_features = X.size()\n",
    "\n",
    "input_size = n_features\n",
    "output_size = n_features\n",
    "\n",
    "X_test = torch.tensor([[5.]], dtype=torch.float32)"
   ]
  },
  {
   "cell_type": "code",
   "execution_count": 27,
   "id": "cutting-installation",
   "metadata": {},
   "outputs": [],
   "source": [
    "# model\n",
    "model = nn.Linear(input_size, output_size)\n",
    "\n",
    "# loss\n",
    "loss = nn.MSELoss()\n",
    "\n",
    "# optimizer\n",
    "learning_rate = 0.01\n",
    "n_iters = 100\n",
    "optimizer = torch.optim.SGD(model.parameters(), lr=learning_rate)"
   ]
  },
  {
   "cell_type": "code",
   "execution_count": 28,
   "id": "indonesian-portable",
   "metadata": {},
   "outputs": [
    {
     "name": "stdout",
     "output_type": "stream",
     "text": [
      "Prediction before training: -0.7897008657455444\n",
      "Epoch 10: w=12.076679229736328, loss=4394.97021484375\n",
      "Epoch 20: w=22.432687759399414, loss=3277.99365234375\n",
      "Epoch 30: w=31.25697135925293, loss=2470.086669921875\n",
      "Epoch 40: w=38.77762222290039, loss=1885.0904541015625\n",
      "Epoch 50: w=45.188507080078125, loss=1461.07177734375\n",
      "Epoch 60: w=50.65439987182617, loss=1153.446044921875\n",
      "Epoch 70: w=55.31546401977539, loss=930.0692749023438\n",
      "Epoch 80: w=59.29088592529297, loss=767.7396240234375\n",
      "Epoch 90: w=62.682090759277344, loss=649.6865844726562\n",
      "Epoch 100: w=65.57538604736328, loss=563.7757568359375\n",
      "Prediction after training: 333.03118896484375\n"
     ]
    }
   ],
   "source": [
    "print(\"Prediction before training: {0}\".format(model(X_test).item()))\n",
    "\n",
    "# Training \n",
    "for epoch in range(n_iters):\n",
    "    # prediction \n",
    "    y_pred = model(X)\n",
    "    \n",
    "    # loss\n",
    "    l = loss(y, y_pred)\n",
    "    \n",
    "    # gradient\n",
    "    l.backward()\n",
    "    \n",
    "    # update weights\n",
    "    optimizer.step()\n",
    "    \n",
    "    # zero w.grad\n",
    "    optimizer.zero_grad()\n",
    "\n",
    "    if (epoch+1) % 10 == 0:\n",
    "        [w, b] = model.parameters()\n",
    "        print(\"Epoch {0}: w={1}, loss={2}\".format(epoch+1, w.item(), l.item()))\n",
    "\n",
    "print(\"Prediction after training: {0}\".format(model(X_test).item()))       "
   ]
  },
  {
   "cell_type": "markdown",
   "id": "outside-exhibition",
   "metadata": {},
   "source": [
    "# 3. Plot"
   ]
  },
  {
   "cell_type": "code",
   "execution_count": 36,
   "id": "placed-facility",
   "metadata": {},
   "outputs": [
    {
     "data": {
      "text/plain": [
       "[<matplotlib.lines.Line2D at 0x12c40fca0>]"
      ]
     },
     "execution_count": 36,
     "metadata": {},
     "output_type": "execute_result"
    },
    {
     "data": {
      "image/png": "[encoded data removed]",
      "text/plain": [
       "<Figure size 432x288 with 1 Axes>"
      ]
     },
     "metadata": {
      "needs_background": "light"
     },
     "output_type": "display_data"
    }
   ],
   "source": [
    "predicted = model(X).detach().numpy()\n",
    "plt.plot(X_numpy, y_numpy, \"ro\")\n",
    "plt.plot(X_numpy, predicted, \"b\")"
   ]
  },
  {
   "cell_type": "code",
   "execution_count": 37,
   "id": "homeless-bonus",
   "metadata": {},
   "outputs": [
    {
     "data": {
      "text/plain": [
       "(100, 1)"
      ]
     },
     "execution_count": 37,
     "metadata": {},
     "output_type": "execute_result"
    }
   ],
   "source": [
    "X_numpy.shape"
   ]
  },
  {
   "cell_type": "code",
   "execution_count": null,
   "id": "surrounded-board",
   "metadata": {},
   "outputs": [],
   "source": []
  }
 ],
 "metadata": {
  "kernelspec": {
   "display_name": "python3.9",
   "language": "python",
   "name": "python3.9"
  },
  "language_info": {
   "codemirror_mode": {
    "name": "ipython",
    "version": 3
   },
   "file_extension": ".py",
   "mimetype": "text/x-python",
   "name": "python",
   "nbconvert_exporter": "python",
   "pygments_lexer": "ipython3",
   "version": "3.9.5"
  }
 },
 "nbformat": 4,
 "nbformat_minor": 5
}
