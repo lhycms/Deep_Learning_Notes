{
 "cells": [
  {
   "cell_type": "code",
   "execution_count": 1,
   "metadata": {},
   "outputs": [],
   "source": [
    "import torch"
   ]
  },
  {
   "cell_type": "code",
   "execution_count": 2,
   "metadata": {},
   "outputs": [
    {
     "name": "stdout",
     "output_type": "stream",
     "text": [
      "tensor([[4.4650e+30, 7.0975e+22, 7.9309e+34],\n",
      "        [7.9439e+08, 3.2604e-12, 7.3113e+34]])\n"
     ]
    }
   ],
   "source": [
    "x = torch.empty(2, 3)\n",
    "print(x)"
   ]
  },
  {
   "cell_type": "code",
   "execution_count": 3,
   "metadata": {},
   "outputs": [
    {
     "name": "stdout",
     "output_type": "stream",
     "text": [
      "tensor([[0.8471, 0.3351],\n",
      "        [0.7820, 0.0604]])\n"
     ]
    }
   ],
   "source": [
    "x = torch.rand(2, 2)\n",
    "print(x)"
   ]
  },
  {
   "cell_type": "code",
   "execution_count": 4,
   "metadata": {},
   "outputs": [
    {
     "name": "stdout",
     "output_type": "stream",
     "text": [
      "tensor([[1., 1.],\n",
      "        [1., 1.]])\n"
     ]
    }
   ],
   "source": [
    "x = torch.ones(2, 2)\n",
    "print(x)"
   ]
  },
  {
   "cell_type": "code",
   "execution_count": 7,
   "metadata": {},
   "outputs": [
    {
     "name": "stdout",
     "output_type": "stream",
     "text": [
      "tensor([[1., 1.],\n",
      "        [1., 1.]])\n",
      "torch.Size([2, 2])\n"
     ]
    }
   ],
   "source": [
    "x = torch.ones(2, 2, dtype=torch.float32)\n",
    "print(x)\n",
    "\n",
    "print(x.size())     # type = torch.Size"
   ]
  },
  {
   "cell_type": "code",
   "execution_count": 10,
   "metadata": {},
   "outputs": [
    {
     "name": "stdout",
     "output_type": "stream",
     "text": [
      "tensor([[1.6163, 1.1263],\n",
      "        [1.6266, 0.9452]])\n",
      "tensor([1.1263, 0.9452])\n"
     ]
    }
   ],
   "source": [
    "x = torch.rand(2, 2, dtype=torch.float32)\n",
    "y = torch.rand(2, 2, dtype=torch.float32)\n",
    "\n",
    "z = x + y\n",
    "print(z)\n",
    "print(z[:, 1])  # 取出后成一维数组"
   ]
  },
  {
   "cell_type": "code",
   "execution_count": 11,
   "metadata": {},
   "outputs": [
    {
     "name": "stdout",
     "output_type": "stream",
     "text": [
      "0.3719552159309387\n"
     ]
    }
   ],
   "source": [
    "x = torch.rand(5, 3)\n",
    "print(x[1, 1].item())   # 取出一个数"
   ]
  },
  {
   "cell_type": "code",
   "execution_count": 16,
   "metadata": {},
   "outputs": [
    {
     "name": "stdout",
     "output_type": "stream",
     "text": [
      "torch.Size([4, 4])\n",
      "torch.Size([2, 2, 4])\n"
     ]
    }
   ],
   "source": [
    "x = torch.rand(4, 4)\n",
    "y = x.view(2, 2, 4)\n",
    "\n",
    "print(x.size())\n",
    "print(y.size())"
   ]
  },
  {
   "cell_type": "code",
   "execution_count": null,
   "metadata": {},
   "outputs": [],
   "source": []
  },
  {
   "cell_type": "code",
   "execution_count": 19,
   "metadata": {},
   "outputs": [],
   "source": [
    "import numpy as np\n",
    "import torch"
   ]
  },
  {
   "cell_type": "code",
   "execution_count": 30,
   "metadata": {},
   "outputs": [
    {
     "name": "stdout",
     "output_type": "stream",
     "text": [
      "<class 'torch.Tensor'> tensor([1., 1., 1., 1., 1.], dtype=torch.float64)\n",
      "<class 'numpy.ndarray'> [1. 1. 1. 1. 1.]\n"
     ]
    }
   ],
   "source": [
    "a = torch.ones(5, dtype=torch.float64)\n",
    "print(type(a), a)\n",
    "b = a.numpy()\n",
    "print(type(b), b)"
   ]
  },
  {
   "cell_type": "code",
   "execution_count": 31,
   "metadata": {},
   "outputs": [
    {
     "name": "stdout",
     "output_type": "stream",
     "text": [
      "<class 'numpy.ndarray'> [1. 1. 1. 1. 1.]\n",
      "<class 'torch.Tensor'> tensor([1., 1., 1., 1., 1.], dtype=torch.float64)\n"
     ]
    }
   ],
   "source": [
    "a = np.ones(5, dtype=np.float64)\n",
    "print(type(a), a)\n",
    "b = torch.from_numpy(a)\n",
    "print(type(b), b)"
   ]
  },
  {
   "cell_type": "code",
   "execution_count": null,
   "metadata": {},
   "outputs": [],
   "source": []
  },
  {
   "cell_type": "code",
   "execution_count": 34,
   "metadata": {},
   "outputs": [],
   "source": [
    "import torch\n",
    "\n",
    "\n",
    "if torch.cuda.is_available():\n",
    "    device = torch.device(\"cuda\")\n",
    "    # Create a tensor on GPU\n",
    "    x = torch.ones(5, device=device)\n",
    "\n",
    "    # Create a tensor on CPU\n",
    "    y = torch.ones(5)\n",
    "    # And then move this tensor to GPU\n",
    "    y = y.to(device)\n",
    "\n",
    "    # This operatiom will perform on GPU\n",
    "    z = x + y\n",
    "\n",
    "    # Error: numpy can only handle CPU data\n",
    "    z.numpy()\n",
    "    print(z)\n",
    "\n",
    "    # 将 z 从 GPU 移动到 CPU\n",
    "    z.to(\"cpu\")\n",
    "    print()"
   ]
  },
  {
   "cell_type": "code",
   "execution_count": null,
   "metadata": {},
   "outputs": [],
   "source": []
  }
 ],
 "metadata": {
  "kernelspec": {
   "display_name": "workdir",
   "language": "python",
   "name": "python3"
  },
  "language_info": {
   "codemirror_mode": {
    "name": "ipython",
    "version": 3
   },
   "file_extension": ".py",
   "mimetype": "text/x-python",
   "name": "python",
   "nbconvert_exporter": "python",
   "pygments_lexer": "ipython3",
   "version": "3.9.7"
  },
  "orig_nbformat": 4,
  "vscode": {
   "interpreter": {
    "hash": "ba638ad70ccaeb6ccd331f5570d9b10b0c0ed5153ede80b1237556805ea6ecaf"
   }
  }
 },
 "nbformat": 4,
 "nbformat_minor": 2
}
