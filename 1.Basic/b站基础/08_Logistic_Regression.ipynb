{
 "cells": [
  {
   "cell_type": "markdown",
   "id": "medical-aberdeen",
   "metadata": {},
   "source": [
    "# 08_Logistic_Regression\n",
    "\n",
    "1. Design model (input, output size, forward pass)\n",
    "2. Construct loss and optimization\n",
    "3. Training the loop\n",
    "    - forward pass: compute prediction and loss\n",
    "    - backward pass: compute gradient\n",
    "    - update weights"
   ]
  },
  {
   "cell_type": "code",
   "execution_count": 26,
   "id": "christian-beads",
   "metadata": {},
   "outputs": [],
   "source": [
    "import torch\n",
    "import torch.nn as nn\n",
    "import numpy as np\n",
    "from sklearn import datasets\n",
    "from sklearn.preprocessing import StandardScaler\n",
    "from sklearn.model_selection import train_test_split"
   ]
  },
  {
   "cell_type": "markdown",
   "id": "interim-induction",
   "metadata": {},
   "source": [
    "# 1. Data Preparation"
   ]
  },
  {
   "cell_type": "code",
   "execution_count": 27,
   "id": "toxic-hawaii",
   "metadata": {},
   "outputs": [
    {
     "name": "stdout",
     "output_type": "stream",
     "text": [
      "<class 'numpy.ndarray'> <class 'numpy.ndarray'>\n",
      "(569, 30) (569,)\n"
     ]
    }
   ],
   "source": [
    "# 0 Data Preparation\n",
    "bc = datasets.load_breast_cancer()\n",
    "X = bc.data\n",
    "y = bc.target\n",
    "print(type(X), type(y))\n",
    "print(X.shape, y.shape)\n",
    "\n",
    "n_samples, n_features = X.shape\n",
    "\n",
    "X_train, X_test, y_train, y_test = train_test_split(X, y, test_size=0.2, random_state=1234)"
   ]
  },
  {
   "cell_type": "code",
   "execution_count": 28,
   "id": "unusual-arabic",
   "metadata": {},
   "outputs": [],
   "source": [
    "# scale\n",
    "scaler = StandardScaler()\n",
    "X_train = scaler.fit_transform(X_train)\n",
    "X_test = scaler.transform(X_test)\n",
    "\n",
    "X_train = torch.tensor(X_train, dtype=torch.float32)\n",
    "X_test = torch.tensor(X_test, dtype=torch.float32)\n",
    "y_train = torch.tensor(y_train, dtype=torch.float32)\n",
    "y_test = torch.tensor(y_test, dtype=torch.float32)\n",
    "\n",
    "y_train = y_train.view(y_train.shape[0], 1)\n",
    "y_test = y_test.view(y_test.shape[0], 1)"
   ]
  },
  {
   "cell_type": "markdown",
   "id": "northern-fitness",
   "metadata": {},
   "source": [
    "# 2. Neural Network"
   ]
  },
  {
   "cell_type": "code",
   "execution_count": 29,
   "id": "common-alcohol",
   "metadata": {},
   "outputs": [],
   "source": [
    "# model\n",
    "# f = w*x+b, sigmoid at the end\n",
    "class LogisticRegression(nn.Module):\n",
    "    def __init__(self, input_dim):\n",
    "        super(LogisticRegression, self).__init__()\n",
    "        self.linear = nn.Linear(input_dim, 1)\n",
    "    \n",
    "    def forward(self, x):\n",
    "        y_predicted = torch.sigmoid(self.linear(x))\n",
    "        return y_predicted\n",
    "\n",
    "model = LogisticRegression(n_features)"
   ]
  },
  {
   "cell_type": "code",
   "execution_count": 31,
   "id": "obvious-finish",
   "metadata": {},
   "outputs": [],
   "source": [
    "# loss and optimizer\n",
    "loss = nn.BCELoss()\n",
    "\n",
    "learning_rate = 0.01\n",
    "n_iters = 100\n",
    "optimizer = torch.optim.SGD(model.parameters(), lr=learning_rate)"
   ]
  },
  {
   "cell_type": "code",
   "execution_count": 34,
   "id": "north-globe",
   "metadata": {},
   "outputs": [
    {
     "name": "stdout",
     "output_type": "stream",
     "text": [
      "Epoch 10: loss=0.3905348479747772\n",
      "Epoch 20: loss=0.35248032212257385\n",
      "Epoch 30: loss=0.3235328495502472\n",
      "Epoch 40: loss=0.30063799023628235\n",
      "Epoch 50: loss=0.281982421875\n",
      "Epoch 60: loss=0.26642072200775146\n",
      "Epoch 70: loss=0.2531931400299072\n",
      "Epoch 80: loss=0.2417750060558319\n",
      "Epoch 90: loss=0.23179198801517487\n",
      "Epoch 100: loss=0.22296933829784393\n"
     ]
    }
   ],
   "source": [
    "# Training Loop\n",
    "for epoch in range(n_iters):\n",
    "    # Prediction\n",
    "    y_pred = model(X_train)\n",
    "    \n",
    "    # loss\n",
    "    l = loss(y_pred, y_train)\n",
    "    \n",
    "    # gradient\n",
    "    l.backward()\n",
    "    \n",
    "    # Update weights\n",
    "    optimizer.step()\n",
    "    \n",
    "    # zero w.grad\n",
    "    optimizer.zero_grad()\n",
    "    \n",
    "    if (epoch+1) % 10 == 0:\n",
    "        w, b = model.parameters()\n",
    "        print(\"Epoch {0}: loss={1}\".format(epoch+1, l.item()))"
   ]
  },
  {
   "cell_type": "markdown",
   "id": "wicked-payroll",
   "metadata": {},
   "source": [
    "# 3. Evaluate Performance"
   ]
  },
  {
   "cell_type": "code",
   "execution_count": 38,
   "id": "antique-victim",
   "metadata": {},
   "outputs": [
    {
     "name": "stdout",
     "output_type": "stream",
     "text": [
      "accurancy = 0.9210526347160339\n"
     ]
    }
   ],
   "source": [
    "# If we don't use this statement, this will be part of computation graph and tracked gradient calculation for us \n",
    "# We don't want this, becaues we are done\n",
    "with torch.no_grad():\n",
    "    y_predicted  = model(X_test)\n",
    "    y_predicted_cls = y_predicted.round()\n",
    "    acc = y_predicted_cls.eq(y_test).sum() / float(y_test.shape[0])\n",
    "    print(\"accurancy = {0}\".format(acc))"
   ]
  },
  {
   "cell_type": "code",
   "execution_count": null,
   "id": "legitimate-toyota",
   "metadata": {},
   "outputs": [],
   "source": []
  }
 ],
 "metadata": {
  "kernelspec": {
   "display_name": "python3.9",
   "language": "python",
   "name": "python3.9"
  },
  "language_info": {
   "codemirror_mode": {
    "name": "ipython",
    "version": 3
   },
   "file_extension": ".py",
   "mimetype": "text/x-python",
   "name": "python",
   "nbconvert_exporter": "python",
   "pygments_lexer": "ipython3",
   "version": "3.9.5"
  }
 },
 "nbformat": 4,
 "nbformat_minor": 5
}
