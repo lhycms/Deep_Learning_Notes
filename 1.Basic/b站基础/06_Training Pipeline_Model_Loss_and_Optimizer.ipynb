{
 "cells": [
  {
   "cell_type": "markdown",
   "id": "color-congress",
   "metadata": {},
   "source": [
    "# 06 - Training Pipeline: Model, Loss, and Optimizer\n",
    "1. Prediction: <font color=A52A2A size=3>PyTorch Model</font>\n",
    "2. Gradient Computation:  <font color=#A52A2A size=3>Autograd</font>\n",
    "3. Loss Computation: <font color=#A52A2A size=3>PyTorch loss</font>\n",
    "4. Parameters Updates: <font color=#A52A2A size=3>PyTorch optimizer</font>"
   ]
  },
  {
   "cell_type": "markdown",
   "id": "desperate-syndication",
   "metadata": {},
   "source": [
    "# Neural Network Pipeline\n",
    "\n",
    "1. Design model (input, output size, forward pass)\n",
    "2. Construct loss and optimization\n",
    "3. Training the loop\n",
    "    - forward pass: compute prediction and loss\n",
    "    - backward pass: compute gradient\n",
    "    - update weights"
   ]
  },
  {
   "cell_type": "markdown",
   "id": "republican-procedure",
   "metadata": {},
   "source": [
    "# 1. 利用PyTorch自动实现这个流程"
   ]
  },
  {
   "cell_type": "code",
   "execution_count": 71,
   "id": "classical-foster",
   "metadata": {},
   "outputs": [],
   "source": [
    "import torch \n",
    "import torch.nn as nn"
   ]
  },
  {
   "cell_type": "code",
   "execution_count": 72,
   "id": "developing-advantage",
   "metadata": {},
   "outputs": [
    {
     "name": "stdout",
     "output_type": "stream",
     "text": [
      "4 1\n"
     ]
    }
   ],
   "source": [
    "# f = w * x\n",
    "\n",
    "# f = 2 * x\n",
    "\n",
    "X = torch.tensor([[1.], [2.], [3.], [4.]], dtype=torch.float32)\n",
    "Y = torch.tensor([[2.], [4.], [6.], [8.]], dtype=torch.float32)\n",
    "\n",
    "X_test = torch.tensor([[5]], dtype=torch.float32)\n",
    "n_samples, n_features = X.size()\n",
    "print(n_samples, n_features)\n",
    "\n",
    "input_size = n_features\n",
    "output_size = n_features"
   ]
  },
  {
   "cell_type": "code",
   "execution_count": 73,
   "id": "becoming-least",
   "metadata": {},
   "outputs": [],
   "source": [
    "# Model\n",
    "model = nn.Linear(input_size, output_size)\n",
    "\n",
    "# Loss Function\n",
    "loss = nn.MSELoss()\n",
    "\n",
    "# Optimization\n",
    "learning_rate = 0.01\n",
    "n_iters = 100\n",
    "optimizer = torch.optim.SGD(model.parameters(), lr=learning_rate)"
   ]
  },
  {
   "cell_type": "code",
   "execution_count": 74,
   "id": "selective-beauty",
   "metadata": {},
   "outputs": [
    {
     "name": "stdout",
     "output_type": "stream",
     "text": [
      "Prediction before training: 4.2582526206970215\n",
      "Epoch 0: w=0.8884483575820923, loss=8.589941024780273\n",
      "Epoch 10: w=1.5632803440093994, loss=0.3572579026222229\n",
      "Epoch 20: w=1.6794452667236328, loss=0.1364002227783203\n",
      "Epoch 30: w=1.7055240869522095, loss=0.12328487634658813\n",
      "Epoch 40: w=1.716894268989563, loss=0.11597518622875214\n",
      "Epoch 50: w=1.7256865501403809, loss=0.10922127962112427\n",
      "Epoch 60: w=1.7338587045669556, loss=0.10286401212215424\n",
      "Epoch 70: w=1.7417312860488892, loss=0.09687678515911102\n",
      "Epoch 80: w=1.7493619918823242, loss=0.0912381261587143\n",
      "Epoch 90: w=1.7567659616470337, loss=0.0859275609254837\n",
      "Prediction after training: 9.512307167053223\n"
     ]
    }
   ],
   "source": [
    "print(\"Prediction before training: {0}\".format(float(model(X_test))))\n",
    "\n",
    "for epoch in range(n_iters):\n",
    "    # prediction\n",
    "    y_pred = model(X)\n",
    "    \n",
    "    # loss \n",
    "    l = loss(Y, y_pred)\n",
    "    \n",
    "    # gradient\n",
    "    l.backward()\n",
    "    \n",
    "    # update weights\n",
    "    optimizer.step()\n",
    "    \n",
    "    # zero w.grad\n",
    "    optimizer.zero_grad()\n",
    "    \n",
    "    if epoch % 10 == 0:\n",
    "        # nn.Linear() model的parameters包括两部分：weight和 bias\n",
    "        [w, b] = model.parameters()\n",
    "        print(\"Epoch {0}: w={1}, loss={2}\".format(epoch, w.item(), l.item()))\n",
    "print(\"Prediction after training: {0}\".format(float(model(X_test))))"
   ]
  },
  {
   "cell_type": "markdown",
   "id": "varied-watts",
   "metadata": {},
   "source": [
    "# 2. `torch.nn.MSELoss()`: 损失函数"
   ]
  },
  {
   "cell_type": "markdown",
   "id": "local-bottom",
   "metadata": {},
   "source": [
    "# 3. `torch.optim.SGD(model.paramters(), lr=learning_rate)`：优化算法\n",
    "- `optimizer.step()`: Updates weights\n",
    "- `optimizer.zero_grad()`: w.grad.zero_()"
   ]
  },
  {
   "cell_type": "markdown",
   "id": "exotic-particle",
   "metadata": {},
   "source": [
    "# 4. `torch.nn.Linear(Input_size, Output_size)`：模型\n",
    "1. Input size: The number of input feature \n",
    "    - row: The number of examples\n",
    "    - columns: The number of features\n",
    "2. Output size: The number of target"
   ]
  },
  {
   "cell_type": "markdown",
   "id": "hollow-trunk",
   "metadata": {},
   "source": [
    "## 注意：定义`torch.tensor`时，从内到外是：行 --> 列"
   ]
  },
  {
   "cell_type": "code",
   "execution_count": 75,
   "id": "indonesian-mountain",
   "metadata": {},
   "outputs": [
    {
     "name": "stdout",
     "output_type": "stream",
     "text": [
      "tensor([1, 2, 3])\n"
     ]
    }
   ],
   "source": [
    "m = torch.tensor([1, 2, 3])\n",
    "print(m)"
   ]
  },
  {
   "cell_type": "code",
   "execution_count": 76,
   "id": "available-conflict",
   "metadata": {},
   "outputs": [
    {
     "name": "stdout",
     "output_type": "stream",
     "text": [
      "tensor([[1, 2, 4],\n",
      "        [2, 3, 4],\n",
      "        [3, 4, 5]])\n"
     ]
    }
   ],
   "source": [
    "m = torch.tensor([[1, 2, 4], [2, 3, 4], [3, 4, 5]])\n",
    "print(m)"
   ]
  },
  {
   "cell_type": "markdown",
   "id": "golden-grace",
   "metadata": {},
   "source": [
    "# 5. You can also wrap a `torch.nn.Module()` to generate custom model"
   ]
  },
  {
   "cell_type": "code",
   "execution_count": 78,
   "id": "ultimate-trading",
   "metadata": {},
   "outputs": [],
   "source": [
    "# 这个类和`torch.nn.Linear()`有相同的功能\n",
    "class LinearRegression(nn.Module):\n",
    "    def __init__(self, input_dim, output_dim):\n",
    "        super(LinearRegression, self).__init__()\n",
    "        self.lin = nn.Linear(input_dim, output_dim)\n",
    "    \n",
    "    def forward(self, x):\n",
    "        return self.lin(x)"
   ]
  },
  {
   "cell_type": "code",
   "execution_count": null,
   "id": "sapphire-movie",
   "metadata": {},
   "outputs": [],
   "source": []
  }
 ],
 "metadata": {
  "kernelspec": {
   "display_name": "python3.9",
   "language": "python",
   "name": "python3.9"
  },
  "language_info": {
   "codemirror_mode": {
    "name": "ipython",
    "version": 3
   },
   "file_extension": ".py",
   "mimetype": "text/x-python",
   "name": "python",
   "nbconvert_exporter": "python",
   "pygments_lexer": "ipython3",
   "version": "3.9.5"
  }
 },
 "nbformat": 4,
 "nbformat_minor": 5
}
