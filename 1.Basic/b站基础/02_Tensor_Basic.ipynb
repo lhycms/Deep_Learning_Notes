{
 "cells": [
  {
   "cell_type": "code",
   "execution_count": 1,
   "id": "published-aruba",
   "metadata": {},
   "outputs": [],
   "source": [
    "import torch"
   ]
  },
  {
   "cell_type": "code",
   "execution_count": 3,
   "id": "regional-heaven",
   "metadata": {},
   "outputs": [
    {
     "name": "stdout",
     "output_type": "stream",
     "text": [
      "torch.float32\n"
     ]
    }
   ],
   "source": [
    "# tensor可以是 1D, 2D, 3D，或者任意维度的\n",
    "x = torch.ones(2, 2)\n",
    "print(x.dtype)"
   ]
  },
  {
   "cell_type": "code",
   "execution_count": 7,
   "id": "acceptable-communication",
   "metadata": {},
   "outputs": [
    {
     "name": "stdout",
     "output_type": "stream",
     "text": [
      "torch.Size([2, 2])\n"
     ]
    }
   ],
   "source": [
    "# tensor的尺寸\n",
    "x = torch.ones(2, 2, dtype=torch.float16)\n",
    "print(x.size())"
   ]
  },
  {
   "cell_type": "code",
   "execution_count": 8,
   "id": "august-craft",
   "metadata": {},
   "outputs": [
    {
     "name": "stdout",
     "output_type": "stream",
     "text": [
      "tensor([2.5000, 0.1000])\n"
     ]
    }
   ],
   "source": [
    "# python list --> torch.tensor\n",
    "x = torch.tensor([2.5, 0.1])\n",
    "print(x)"
   ]
  },
  {
   "cell_type": "markdown",
   "id": "thorough-buying",
   "metadata": {},
   "source": [
    "# tensor operation"
   ]
  },
  {
   "cell_type": "code",
   "execution_count": 13,
   "id": "front-simulation",
   "metadata": {},
   "outputs": [
    {
     "name": "stdout",
     "output_type": "stream",
     "text": [
      "tensor([[0.8858, 0.4313],\n",
      "        [0.1174, 0.2479]])\n",
      "tensor([[0.1229, 0.4509],\n",
      "        [0.3847, 0.9082]])\n"
     ]
    }
   ],
   "source": [
    "x = torch.rand(2, 2)\n",
    "y = torch.rand(2, 2)\n",
    "print(x)\n",
    "print(y)"
   ]
  },
  {
   "cell_type": "markdown",
   "id": "cooperative-restoration",
   "metadata": {},
   "source": [
    "## 1.1 加法"
   ]
  },
  {
   "cell_type": "code",
   "execution_count": 16,
   "id": "enabling-postage",
   "metadata": {},
   "outputs": [
    {
     "name": "stdout",
     "output_type": "stream",
     "text": [
      "tensor([[1.0087, 0.8822],\n",
      "        [0.5020, 1.1561]])\n",
      "tensor([[1.0087, 0.8822],\n",
      "        [0.5020, 1.1561]])\n"
     ]
    }
   ],
   "source": [
    "# 加法\n",
    "z = x + y \n",
    "print(z)\n",
    "z = torch.add(x, y)\n",
    "print(z)"
   ]
  },
  {
   "cell_type": "code",
   "execution_count": 17,
   "id": "starting-associate",
   "metadata": {},
   "outputs": [
    {
     "name": "stdout",
     "output_type": "stream",
     "text": [
      "tensor([[1.0087, 0.8822],\n",
      "        [0.5020, 1.1561]])\n"
     ]
    }
   ],
   "source": [
    "# inplace-addition: pytorch中任何有下划线的function，都会做一个inplace-operation\n",
    "y.add_(x)\n",
    "print(y)"
   ]
  },
  {
   "cell_type": "markdown",
   "id": "collaborative-genesis",
   "metadata": {},
   "source": [
    "## 1.2 减法"
   ]
  },
  {
   "cell_type": "code",
   "execution_count": 22,
   "id": "standing-rocket",
   "metadata": {},
   "outputs": [
    {
     "name": "stdout",
     "output_type": "stream",
     "text": [
      "tensor([[0.6254, 0.0312],\n",
      "        [0.9860, 0.5340]])\n",
      "tensor([[0.7564, 0.7610],\n",
      "        [0.4530, 0.2232]])\n"
     ]
    }
   ],
   "source": [
    "x = torch.rand(2, 2)\n",
    "y = torch.rand(2, 2)\n",
    "print(x)\n",
    "print(y)"
   ]
  },
  {
   "cell_type": "code",
   "execution_count": 23,
   "id": "seven-navigator",
   "metadata": {},
   "outputs": [
    {
     "name": "stdout",
     "output_type": "stream",
     "text": [
      "tensor([[-0.1310, -0.7298],\n",
      "        [ 0.5330,  0.3108]])\n",
      "tensor([[-0.1310, -0.7298],\n",
      "        [ 0.5330,  0.3108]])\n"
     ]
    }
   ],
   "source": [
    "z = x - y\n",
    "print(z)\n",
    "z = torch.sub(x, y)\n",
    "print(z)"
   ]
  },
  {
   "cell_type": "code",
   "execution_count": 24,
   "id": "american-vampire",
   "metadata": {},
   "outputs": [
    {
     "name": "stdout",
     "output_type": "stream",
     "text": [
      "tensor([[-0.1310, -0.7298],\n",
      "        [ 0.5330,  0.3108]])\n"
     ]
    }
   ],
   "source": [
    "x.sub_(y)\n",
    "print(x)"
   ]
  },
  {
   "cell_type": "markdown",
   "id": "about-creativity",
   "metadata": {},
   "source": [
    "## 1.3 乘法"
   ]
  },
  {
   "cell_type": "code",
   "execution_count": 26,
   "id": "material-craft",
   "metadata": {},
   "outputs": [
    {
     "name": "stdout",
     "output_type": "stream",
     "text": [
      "tensor([[0.1440, 0.6400],\n",
      "        [0.5544, 0.4630]])\n",
      "tensor([[0.0656, 0.1098],\n",
      "        [0.9320, 0.1728]])\n"
     ]
    }
   ],
   "source": [
    "x = torch.rand(2, 2)\n",
    "y = torch.rand(2, 2)\n",
    "print(x)\n",
    "print(y)"
   ]
  },
  {
   "cell_type": "code",
   "execution_count": 29,
   "id": "bridal-safety",
   "metadata": {},
   "outputs": [
    {
     "name": "stdout",
     "output_type": "stream",
     "text": [
      "tensor([[0.0094, 0.0702],\n",
      "        [0.5167, 0.0800]])\n",
      "tensor([[0.0094, 0.0702],\n",
      "        [0.5167, 0.0800]])\n"
     ]
    }
   ],
   "source": [
    "z = x * y\n",
    "print(z)\n",
    "z = torch.mul(x, y)\n",
    "print(z)"
   ]
  },
  {
   "cell_type": "code",
   "execution_count": 30,
   "id": "medical-husband",
   "metadata": {},
   "outputs": [
    {
     "name": "stdout",
     "output_type": "stream",
     "text": [
      "tensor([[0.0094, 0.0702],\n",
      "        [0.5167, 0.0800]])\n"
     ]
    }
   ],
   "source": [
    "x.mul_(y)\n",
    "print(x)"
   ]
  },
  {
   "cell_type": "markdown",
   "id": "substantial-stomach",
   "metadata": {},
   "source": [
    "## 1.4 除法"
   ]
  },
  {
   "cell_type": "code",
   "execution_count": 32,
   "id": "institutional-idaho",
   "metadata": {},
   "outputs": [
    {
     "name": "stdout",
     "output_type": "stream",
     "text": [
      "tensor([[0.2252, 0.3374],\n",
      "        [0.9898, 0.6821]])\n",
      "tensor([[0.0719, 0.8606],\n",
      "        [0.2653, 0.8219]])\n"
     ]
    }
   ],
   "source": [
    "x = torch.rand(2, 2)\n",
    "y = torch.rand(2, 2)\n",
    "print(x)\n",
    "print(y)"
   ]
  },
  {
   "cell_type": "code",
   "execution_count": 33,
   "id": "geological-exploration",
   "metadata": {},
   "outputs": [
    {
     "name": "stdout",
     "output_type": "stream",
     "text": [
      "tensor([[3.1303, 0.3921],\n",
      "        [3.7313, 0.8299]])\n",
      "tensor([[3.1303, 0.3921],\n",
      "        [3.7313, 0.8299]])\n"
     ]
    }
   ],
   "source": [
    "z = x / y\n",
    "print(z)\n",
    "z = torch.div(x, y)\n",
    "print(z)"
   ]
  },
  {
   "cell_type": "code",
   "execution_count": 34,
   "id": "naval-jefferson",
   "metadata": {},
   "outputs": [
    {
     "name": "stdout",
     "output_type": "stream",
     "text": [
      "tensor([[3.1303, 0.3921],\n",
      "        [3.7313, 0.8299]])\n"
     ]
    }
   ],
   "source": [
    "x.div_(y)\n",
    "print(x)"
   ]
  },
  {
   "cell_type": "markdown",
   "id": "fluid-waste",
   "metadata": {},
   "source": [
    "# 2. Index or Slice"
   ]
  },
  {
   "cell_type": "markdown",
   "id": "brilliant-report",
   "metadata": {},
   "source": [
    "## 2.1 Index or Slice"
   ]
  },
  {
   "cell_type": "code",
   "execution_count": 37,
   "id": "detailed-columbus",
   "metadata": {},
   "outputs": [
    {
     "name": "stdout",
     "output_type": "stream",
     "text": [
      "tensor([[0.0396, 0.6591, 0.1269],\n",
      "        [0.4136, 0.9852, 0.8125],\n",
      "        [0.8344, 0.0076, 0.6598],\n",
      "        [0.7111, 0.5768, 0.9536],\n",
      "        [0.0540, 0.7112, 0.2756]])\n"
     ]
    }
   ],
   "source": [
    "x = torch.rand(5, 3)\n",
    "print(x)"
   ]
  },
  {
   "cell_type": "code",
   "execution_count": 38,
   "id": "appointed-reality",
   "metadata": {},
   "outputs": [
    {
     "name": "stdout",
     "output_type": "stream",
     "text": [
      "tensor([0.0396, 0.4136, 0.8344, 0.7111, 0.0540])\n"
     ]
    }
   ],
   "source": [
    "print(x[:, 0])"
   ]
  },
  {
   "cell_type": "code",
   "execution_count": 41,
   "id": "killing-principal",
   "metadata": {},
   "outputs": [
    {
     "name": "stdout",
     "output_type": "stream",
     "text": [
      "tensor(0.9852)\n",
      "0.9851770997047424\n"
     ]
    }
   ],
   "source": [
    "print(x[1, 1])\n",
    "# if tensor内只有一个element，tensor.item()得到该element\n",
    "print(x[1, 1].item())"
   ]
  },
  {
   "cell_type": "markdown",
   "id": "statewide-campus",
   "metadata": {},
   "source": [
    "## 2.2 flatten"
   ]
  },
  {
   "cell_type": "code",
   "execution_count": 42,
   "id": "abandoned-mother",
   "metadata": {},
   "outputs": [
    {
     "name": "stdout",
     "output_type": "stream",
     "text": [
      "tensor([[0.8265, 0.7977, 0.5233, 0.8930],\n",
      "        [0.1072, 0.2398, 0.5827, 0.9748],\n",
      "        [0.4974, 0.9226, 0.6705, 0.3471],\n",
      "        [0.4521, 0.8347, 0.6577, 0.3219]])\n"
     ]
    }
   ],
   "source": [
    "x = torch.rand(4, 4)\n",
    "print(x)"
   ]
  },
  {
   "cell_type": "code",
   "execution_count": 45,
   "id": "polish-weekend",
   "metadata": {},
   "outputs": [
    {
     "name": "stdout",
     "output_type": "stream",
     "text": [
      "tensor([0.8265, 0.7977, 0.5233, 0.8930, 0.1072, 0.2398, 0.5827, 0.9748, 0.4974,\n",
      "        0.9226, 0.6705, 0.3471, 0.4521, 0.8347, 0.6577, 0.3219])\n"
     ]
    }
   ],
   "source": [
    "# return (1, 16)\n",
    "y = x.view(16)\n",
    "print(y)"
   ]
  },
  {
   "cell_type": "code",
   "execution_count": 47,
   "id": "banned-arrest",
   "metadata": {},
   "outputs": [
    {
     "name": "stdout",
     "output_type": "stream",
     "text": [
      "tensor([[0.8265, 0.7977, 0.5233, 0.8930, 0.1072, 0.2398, 0.5827, 0.9748],\n",
      "        [0.4974, 0.9226, 0.6705, 0.3471, 0.4521, 0.8347, 0.6577, 0.3219]])\n"
     ]
    }
   ],
   "source": [
    "# return (2, 8)\n",
    "y = x.view(-1, 8)\n",
    "print(y)"
   ]
  },
  {
   "cell_type": "markdown",
   "id": "suburban-lightweight",
   "metadata": {},
   "source": [
    "# 3. numpy"
   ]
  },
  {
   "cell_type": "code",
   "execution_count": 48,
   "id": "legitimate-dayton",
   "metadata": {},
   "outputs": [],
   "source": [
    "import numpy as np"
   ]
  },
  {
   "cell_type": "markdown",
   "id": "fixed-durham",
   "metadata": {},
   "source": [
    "## 3.1 torch.tensor --> numpy.array"
   ]
  },
  {
   "cell_type": "code",
   "execution_count": 53,
   "id": "former-lender",
   "metadata": {},
   "outputs": [
    {
     "name": "stdout",
     "output_type": "stream",
     "text": [
      "tensor([1., 1., 1., 1., 1.])\n",
      "<class 'numpy.ndarray'>\n"
     ]
    }
   ],
   "source": [
    "# torch.tensor --> numpy.array\n",
    "a = torch.ones(5)\n",
    "print(a)\n",
    "b = a.numpy()\n",
    "print(type(b))"
   ]
  },
  {
   "cell_type": "code",
   "execution_count": 54,
   "id": "unknown-trade",
   "metadata": {},
   "outputs": [
    {
     "name": "stdout",
     "output_type": "stream",
     "text": [
      "tensor([2., 2., 2., 2., 2.])\n",
      "[2. 2. 2. 2. 2.]\n"
     ]
    }
   ],
   "source": [
    "# 如果在CPU上运行，上面两者共享内存，改变一个，另一个也发生改变\n",
    "a.add_(1)\n",
    "print(a)\n",
    "print(b)"
   ]
  },
  {
   "cell_type": "markdown",
   "id": "tight-andrew",
   "metadata": {},
   "source": [
    "## 3.2 numpy.array --> torch.tensor"
   ]
  },
  {
   "cell_type": "code",
   "execution_count": 55,
   "id": "substantial-combining",
   "metadata": {},
   "outputs": [
    {
     "name": "stdout",
     "output_type": "stream",
     "text": [
      "[1. 1. 1. 1. 1.]\n",
      "<class 'torch.Tensor'>\n"
     ]
    }
   ],
   "source": [
    "a = np.ones(5)\n",
    "print(a)\n",
    "b = torch.from_numpy(a)\n",
    "print(type(b))"
   ]
  },
  {
   "cell_type": "markdown",
   "id": "knowing-stranger",
   "metadata": {},
   "source": [
    "## 3.3 在cuda上生成tensor"
   ]
  },
  {
   "cell_type": "code",
   "execution_count": 56,
   "id": "backed-dover",
   "metadata": {},
   "outputs": [],
   "source": [
    "if torch.cuda.is_available():\n",
    "    device = torch.device(\"cuda\")\n",
    "    x = torch.ones(5, device=device)\n",
    "    # you can create it so simply by saying followings:\n",
    "    y = torch.ones(5)\n",
    "    y = y.to(device)\n",
    "    # Do an operation on GPU, will be much faster\n",
    "    z = x + y\n",
    "    \n",
    "    # following statement will call a error, because tensor.numpy only work on CPU, \n",
    "    # cannot convert a GPU tensor to numpy.array\n",
    "    # if we want to do this(tensor --> numpy), we should move it back to CPU\n",
    "    z.numpy()\n",
    "    \n",
    "    z = z.to(\"cpu\")\n",
    "    z.numpy()"
   ]
  },
  {
   "cell_type": "markdown",
   "id": "standing-metadata",
   "metadata": {},
   "source": [
    "# 4. Calculate gradient for tensor"
   ]
  },
  {
   "cell_type": "code",
   "execution_count": 58,
   "id": "systematic-daughter",
   "metadata": {},
   "outputs": [
    {
     "name": "stdout",
     "output_type": "stream",
     "text": [
      "tensor([1., 1., 1., 1., 1.], requires_grad=True)\n"
     ]
    }
   ],
   "source": [
    "# it means it will calculate the gradient for this tensor later in your optimization steps(SGD)\n",
    "x = torch.ones(5, requires_grad=True)\n",
    "print(x)"
   ]
  },
  {
   "cell_type": "code",
   "execution_count": null,
   "id": "friendly-niger",
   "metadata": {},
   "outputs": [],
   "source": []
  }
 ],
 "metadata": {
  "kernelspec": {
   "display_name": "workdir",
   "language": "python",
   "name": "python3"
  },
  "language_info": {
   "codemirror_mode": {
    "name": "ipython",
    "version": 3
   },
   "file_extension": ".py",
   "mimetype": "text/x-python",
   "name": "python",
   "nbconvert_exporter": "python",
   "pygments_lexer": "ipython3",
   "version": "3.9.7 (default, Sep 16 2021, 13:09:58) \n[GCC 7.5.0]"
  },
  "vscode": {
   "interpreter": {
    "hash": "ba638ad70ccaeb6ccd331f5570d9b10b0c0ed5153ede80b1237556805ea6ecaf"
   }
  }
 },
 "nbformat": 4,
 "nbformat_minor": 5
}
