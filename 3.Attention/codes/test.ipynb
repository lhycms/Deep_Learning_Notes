{
 "cells": [
  {
   "cell_type": "code",
   "execution_count": 1,
   "metadata": {},
   "outputs": [],
   "source": [
    "import numpy as np\n",
    "import torch\n",
    "import torch.nn as nn"
   ]
  },
  {
   "cell_type": "code",
   "execution_count": 8,
   "metadata": {},
   "outputs": [],
   "source": [
    "class SelfAttentionMultiHead(nn.Module):\n",
    "    def __init__(self, dim_input, dim_k, dim_v, num_heads):\n",
    "        super(SelfAttentionMultiHead, self).__init__()\n",
    "        assert (dim_k % num_heads == 0)\n",
    "        assert (dim_v % num_heads == 0)\n",
    "\n",
    "        self.q = nn.Linear(dim_input, dim_k)\n",
    "        self.k = nn.Linear(dim_input, dim_k)\n",
    "        self.v = nn.Linear(dim_input, dim_v)\n",
    "\n",
    "        self.dim_k = dim_k\n",
    "        self.dim_v = dim_v\n",
    "        self.num_heads = num_heads\n",
    "        self._norm_factor = 1 / np.sqrt(dim_k)\n",
    "    \n",
    "\n",
    "    def forward(self, x):\n",
    "        Q = self.q(x).reshape(-1, x.shape[0], x.shape[1], self.dim_k // self.num_heads)\n",
    "        K = self.k(x).reshape(-1, x.shape[0], x.shape[1], self.dim_k // self.num_heads)\n",
    "        V = self.v(x).reshape(-1, x.shape[0], x.shape[1], self.dim_v // self.num_heads)\n",
    "\n",
    "        atten = nn.Softmax(dim=-1)(\n",
    "                    torch.matmul(Q, K.permute(0, 1, 3, 2)) * self._norm_factor\n",
    "                    )\n",
    "        \n",
    "        output = torch.matmul(atten, V).reshape(x.size(0), x.size(1), -1)\n",
    "        return output"
   ]
  },
  {
   "cell_type": "code",
   "execution_count": 9,
   "metadata": {},
   "outputs": [
    {
     "name": "stdout",
     "output_type": "stream",
     "text": [
      "torch.Size([100, 15, 16])\n",
      "torch.Size([100, 15, 12])\n"
     ]
    }
   ],
   "source": [
    "X = torch.randn(100, 15, 16)\n",
    "print( X.size() )\n",
    "\n",
    "self_attention = SelfAttentionMultiHead(16, 16, 12, 4)\n",
    "res = self_attention(X)\n",
    "print(res.size())"
   ]
  },
  {
   "cell_type": "code",
   "execution_count": null,
   "metadata": {},
   "outputs": [],
   "source": []
  }
 ],
 "metadata": {
  "kernelspec": {
   "display_name": "Python 3.9.7 ('research')",
   "language": "python",
   "name": "python3"
  },
  "language_info": {
   "codemirror_mode": {
    "name": "ipython",
    "version": 3
   },
   "file_extension": ".py",
   "mimetype": "text/x-python",
   "name": "python",
   "nbconvert_exporter": "python",
   "pygments_lexer": "ipython3",
   "version": "3.9.7"
  },
  "orig_nbformat": 4,
  "vscode": {
   "interpreter": {
    "hash": "7b361d90544c21c7e570702d0c4d23653c8dcac4c1ecf309667aae54eeacb0d0"
   }
  }
 },
 "nbformat": 4,
 "nbformat_minor": 2
}
